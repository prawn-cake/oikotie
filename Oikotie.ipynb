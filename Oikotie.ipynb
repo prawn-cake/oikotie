{
 "cells": [
  {
   "cell_type": "code",
   "execution_count": 361,
   "metadata": {},
   "outputs": [],
   "source": [
    "import pandas as pd\n",
    "from pandas.io.json import json_normalize\n",
    "\n",
    "import numpy as np"
   ]
  },
  {
   "cell_type": "code",
   "execution_count": 362,
   "metadata": {},
   "outputs": [],
   "source": [
    "df = json_normalize(pd.read_json('./all.json').to_dict('records')).reset_index(drop=True)"
   ]
  },
  {
   "cell_type": "code",
   "execution_count": 363,
   "metadata": {},
   "outputs": [],
   "source": [
    "# Filter out data\n",
    "df = data[(data.rooms < 8) & (data['buildingData.city'] != 'Järvenpää')].copy()\n",
    "df.loc[:, 'rooms'] = df.rooms.astype(int)"
   ]
  },
  {
   "cell_type": "code",
   "execution_count": 364,
   "metadata": {},
   "outputs": [],
   "source": [
    "df.loc[:, 'price'] = df.price.apply(lambda val: str(val).replace('\\xa0', '').replace('€', '')).astype('float')\n",
    "\n",
    "def norm_city(value):\n",
    "    v = value.lower()\n",
    "    if 'espoo' in v:\n",
    "        return 'Espoo'\n",
    "    elif 'helsinki' in v:\n",
    "        return 'Helsinki'\n",
    "    elif 'vantaa' in v or '01350' in v:\n",
    "        return 'Vantaa'\n",
    "    \n",
    "    return value\n",
    "    \n",
    "df.loc[:, 'buildingData.city'] = df['buildingData.city'].apply(norm_city)\n",
    "df.loc[:, 'buildingData.district'] = df['buildingData.district'].apply(lambda v: v.lower() if v else '')\n",
    "df = df[(df['buildingData.district'] != '')]\n",
    "\n",
    "df.loc[:, 'neighborhood'] = df.apply(lambda item: \"{}, {}\".format(item['buildingData.city'], item['buildingData.district']), axis=1)\n",
    "df.loc[:, 'price_per_sq_m'] = df.apply(lambda item: item.price / item.size, axis=1)\n",
    "df.loc[:, 'avg_price'] = df.apply(lambda item: item.price_per_sq_m * item.size, axis=1)"
   ]
  },
  {
   "cell_type": "code",
   "execution_count": 365,
   "metadata": {},
   "outputs": [],
   "source": [
    "def percentile(n):\n",
    "    def wrapper(x):\n",
    "        return np.percentile(x, n)\n",
    "    wrapper.__name__ = 'p%s' % n\n",
    "    return wrapper\n",
    "\n",
    "grouped = df.fillna(0).groupby(['neighborhood', 'rooms'])\\\n",
    "    .agg({'avg_price': ['mean']})\\\n",
    "    .astype(int)"
   ]
  },
  {
   "cell_type": "code",
   "execution_count": 369,
   "metadata": {},
   "outputs": [],
   "source": [
    "import json\n",
    "\n",
    "def format_groups(groups):\n",
    "    agg_key = ('avg_price', 'mean')\n",
    "    items = list(grouped.to_dict()[agg_key].items())\n",
    "    agg_stats = {}\n",
    "    for item in items:\n",
    "        (city_key, rooms), avg_price = item\n",
    "        agg_stats.setdefault(city_key, [])\n",
    "        agg_stats[city_key].append({'rooms': str(rooms), 'avg_price': avg_price})\n",
    "    # return agg_stats\n",
    "    return [{'city_key': city_key, 'stats': stats} for city_key, stats in agg_stats.items()]\n",
    "\n",
    "with open('./stats.json', 'w') as fd:\n",
    "    json.dump(format_groups(grouped), fd, sort_keys=True, indent=2)"
   ]
  }
 ],
 "metadata": {
  "kernelspec": {
   "display_name": "Python 3",
   "language": "python",
   "name": "python3"
  },
  "language_info": {
   "codemirror_mode": {
    "name": "ipython",
    "version": 3
   },
   "file_extension": ".py",
   "mimetype": "text/x-python",
   "name": "python",
   "nbconvert_exporter": "python",
   "pygments_lexer": "ipython3",
   "version": "3.5.3"
  }
 },
 "nbformat": 4,
 "nbformat_minor": 2
}
